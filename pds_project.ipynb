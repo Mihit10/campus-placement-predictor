{
 "cells": [
  {
   "cell_type": "markdown",
   "metadata": {
    "id": "EF_5ubgi5_SU"
   },
   "source": [
    "### Importing the libraries"
   ]
  },
  {
   "cell_type": "code",
   "execution_count": 1,
   "metadata": {
    "executionInfo": {
     "elapsed": 410,
     "status": "ok",
     "timestamp": 1730393303692,
     "user": {
      "displayName": "mihit singasane",
      "userId": "10672172279252187753"
     },
     "user_tz": -330
    },
    "id": "qM1251J05-Xc"
   },
   "outputs": [],
   "source": [
    "import pandas as pd\n",
    "import numpy as np\n",
    "from sklearn.model_selection import cross_val_score, train_test_split\n",
    "from sklearn.preprocessing import StandardScaler\n",
    "from sklearn.ensemble import RandomForestClassifier, GradientBoostingClassifier\n",
    "from sklearn.svm import SVC\n",
    "from sklearn.neighbors import KNeighborsClassifier\n",
    "from sklearn.naive_bayes import GaussianNB\n",
    "from sklearn.linear_model import LogisticRegression\n",
    "from sklearn.neural_network import MLPClassifier\n",
    "from sklearn.tree import DecisionTreeClassifier\n",
    "from sklearn.metrics import classification_report, confusion_matrix\n",
    "import matplotlib.pyplot as plt\n",
    "import seaborn as sns\n",
    "\n",
    "import pandas as pd\n",
    "import numpy as np\n",
    "from sklearn.model_selection import train_test_split\n",
    "from sklearn.ensemble import RandomForestClassifier\n",
    "from sklearn.preprocessing import LabelEncoder\n",
    "from sklearn.metrics import classification_report\n",
    "import warnings"
   ]
  },
  {
   "cell_type": "markdown",
   "metadata": {
    "id": "PaXiiQMJ7THU"
   },
   "source": [
    "### Loading the dataset"
   ]
  },
  {
   "cell_type": "code",
   "execution_count": 2,
   "metadata": {
    "colab": {
     "base_uri": "https://localhost:8080/",
     "height": 365
    },
    "executionInfo": {
     "elapsed": 857,
     "status": "ok",
     "timestamp": 1730393304986,
     "user": {
      "displayName": "mihit singasane",
      "userId": "10672172279252187753"
     },
     "user_tz": -330
    },
    "id": "FEzEUvUJ7bPi",
    "outputId": "fa7f4d45-f4d7-4534-b63a-0ec5e6bbf87d"
   },
   "outputs": [
    {
     "data": {
      "text/html": [
       "<div>\n",
       "<style scoped>\n",
       "    .dataframe tbody tr th:only-of-type {\n",
       "        vertical-align: middle;\n",
       "    }\n",
       "\n",
       "    .dataframe tbody tr th {\n",
       "        vertical-align: top;\n",
       "    }\n",
       "\n",
       "    .dataframe thead th {\n",
       "        text-align: right;\n",
       "    }\n",
       "</style>\n",
       "<table border=\"1\" class=\"dataframe\">\n",
       "  <thead>\n",
       "    <tr style=\"text-align: right;\">\n",
       "      <th></th>\n",
       "      <th>Name of Student</th>\n",
       "      <th>Roll No.</th>\n",
       "      <th>No. of DSA questions</th>\n",
       "      <th>CGPA</th>\n",
       "      <th>Knows ML</th>\n",
       "      <th>Knows DSA</th>\n",
       "      <th>Knows Python</th>\n",
       "      <th>Knows JavaScript</th>\n",
       "      <th>Knows HTML</th>\n",
       "      <th>Knows CSS</th>\n",
       "      <th>Knows Cricket</th>\n",
       "      <th>Knows Dance</th>\n",
       "      <th>Participated in College Fest</th>\n",
       "      <th>Was in Coding Club</th>\n",
       "      <th>No. of backlogs</th>\n",
       "      <th>Interview Room Temperature</th>\n",
       "      <th>Age of Candidate</th>\n",
       "      <th>Branch of Engineering</th>\n",
       "      <th>Placement Package</th>\n",
       "    </tr>\n",
       "  </thead>\n",
       "  <tbody>\n",
       "    <tr>\n",
       "      <th>0</th>\n",
       "      <td>Todd Pope</td>\n",
       "      <td>30678</td>\n",
       "      <td>151</td>\n",
       "      <td>8.52</td>\n",
       "      <td>Yes</td>\n",
       "      <td>Yes</td>\n",
       "      <td>Yes</td>\n",
       "      <td>Yes</td>\n",
       "      <td>No</td>\n",
       "      <td>Yes</td>\n",
       "      <td>No</td>\n",
       "      <td>No</td>\n",
       "      <td>Yes</td>\n",
       "      <td>Yes</td>\n",
       "      <td>2</td>\n",
       "      <td>24.2</td>\n",
       "      <td>24</td>\n",
       "      <td>Computer Science</td>\n",
       "      <td>20.01</td>\n",
       "    </tr>\n",
       "    <tr>\n",
       "      <th>1</th>\n",
       "      <td>Sandra Brown</td>\n",
       "      <td>49191</td>\n",
       "      <td>24</td>\n",
       "      <td>1.23</td>\n",
       "      <td>Yes</td>\n",
       "      <td>No</td>\n",
       "      <td>No</td>\n",
       "      <td>Yes</td>\n",
       "      <td>No</td>\n",
       "      <td>No</td>\n",
       "      <td>Yes</td>\n",
       "      <td>No</td>\n",
       "      <td>No</td>\n",
       "      <td>Yes</td>\n",
       "      <td>1</td>\n",
       "      <td>20.5</td>\n",
       "      <td>18</td>\n",
       "      <td>Computer Science</td>\n",
       "      <td>10.97</td>\n",
       "    </tr>\n",
       "    <tr>\n",
       "      <th>2</th>\n",
       "      <td>Mrs. Amanda Singleton</td>\n",
       "      <td>83519</td>\n",
       "      <td>333</td>\n",
       "      <td>9.85</td>\n",
       "      <td>No</td>\n",
       "      <td>Yes</td>\n",
       "      <td>Yes</td>\n",
       "      <td>No</td>\n",
       "      <td>Yes</td>\n",
       "      <td>No</td>\n",
       "      <td>No</td>\n",
       "      <td>No</td>\n",
       "      <td>No</td>\n",
       "      <td>No</td>\n",
       "      <td>1</td>\n",
       "      <td>21.6</td>\n",
       "      <td>25</td>\n",
       "      <td>Mechanical Engineering</td>\n",
       "      <td>7.51</td>\n",
       "    </tr>\n",
       "    <tr>\n",
       "      <th>3</th>\n",
       "      <td>Matthew Alvarado</td>\n",
       "      <td>56203</td>\n",
       "      <td>132</td>\n",
       "      <td>1.96</td>\n",
       "      <td>No</td>\n",
       "      <td>No</td>\n",
       "      <td>Yes</td>\n",
       "      <td>No</td>\n",
       "      <td>Yes</td>\n",
       "      <td>No</td>\n",
       "      <td>No</td>\n",
       "      <td>No</td>\n",
       "      <td>Yes</td>\n",
       "      <td>No</td>\n",
       "      <td>4</td>\n",
       "      <td>21.2</td>\n",
       "      <td>20</td>\n",
       "      <td>Computer Science</td>\n",
       "      <td>4.96</td>\n",
       "    </tr>\n",
       "    <tr>\n",
       "      <th>4</th>\n",
       "      <td>Christine Smith</td>\n",
       "      <td>82173</td>\n",
       "      <td>198</td>\n",
       "      <td>9.73</td>\n",
       "      <td>Yes</td>\n",
       "      <td>Yes</td>\n",
       "      <td>Yes</td>\n",
       "      <td>Yes</td>\n",
       "      <td>Yes</td>\n",
       "      <td>Yes</td>\n",
       "      <td>Yes</td>\n",
       "      <td>Yes</td>\n",
       "      <td>No</td>\n",
       "      <td>No</td>\n",
       "      <td>1</td>\n",
       "      <td>20.7</td>\n",
       "      <td>21</td>\n",
       "      <td>Electrical Engineering</td>\n",
       "      <td>46.30</td>\n",
       "    </tr>\n",
       "  </tbody>\n",
       "</table>\n",
       "</div>"
      ],
      "text/plain": [
       "         Name of Student  Roll No.  No. of DSA questions  CGPA Knows ML  \\\n",
       "0              Todd Pope     30678                   151  8.52      Yes   \n",
       "1           Sandra Brown     49191                    24  1.23      Yes   \n",
       "2  Mrs. Amanda Singleton     83519                   333  9.85       No   \n",
       "3       Matthew Alvarado     56203                   132  1.96       No   \n",
       "4        Christine Smith     82173                   198  9.73      Yes   \n",
       "\n",
       "  Knows DSA Knows Python Knows JavaScript Knows HTML Knows CSS Knows Cricket  \\\n",
       "0       Yes          Yes              Yes         No       Yes            No   \n",
       "1        No           No              Yes         No        No           Yes   \n",
       "2       Yes          Yes               No        Yes        No            No   \n",
       "3        No          Yes               No        Yes        No            No   \n",
       "4       Yes          Yes              Yes        Yes       Yes           Yes   \n",
       "\n",
       "  Knows Dance Participated in College Fest Was in Coding Club  \\\n",
       "0          No                          Yes                Yes   \n",
       "1          No                           No                Yes   \n",
       "2          No                           No                 No   \n",
       "3          No                          Yes                 No   \n",
       "4         Yes                           No                 No   \n",
       "\n",
       "   No. of backlogs  Interview Room Temperature  Age of Candidate  \\\n",
       "0                2                        24.2                24   \n",
       "1                1                        20.5                18   \n",
       "2                1                        21.6                25   \n",
       "3                4                        21.2                20   \n",
       "4                1                        20.7                21   \n",
       "\n",
       "    Branch of Engineering  Placement Package  \n",
       "0        Computer Science              20.01  \n",
       "1        Computer Science              10.97  \n",
       "2  Mechanical Engineering               7.51  \n",
       "3        Computer Science               4.96  \n",
       "4  Electrical Engineering              46.30  "
      ]
     },
     "execution_count": 2,
     "metadata": {},
     "output_type": "execute_result"
    }
   ],
   "source": [
    "dataset = pd.read_csv(\"Placements_Dataset.csv\")\n",
    "dataset.head()"
   ]
  },
  {
   "cell_type": "code",
   "execution_count": 3,
   "metadata": {
    "colab": {
     "base_uri": "https://localhost:8080/"
    },
    "executionInfo": {
     "elapsed": 485,
     "status": "ok",
     "timestamp": 1730393305470,
     "user": {
      "displayName": "mihit singasane",
      "userId": "10672172279252187753"
     },
     "user_tz": -330
    },
    "id": "D-Y43Ecq8_MZ",
    "outputId": "366fe43b-4849-45a1-b362-cf9b4e2afb60"
   },
   "outputs": [
    {
     "name": "stdout",
     "output_type": "stream",
     "text": [
      "The shape of the dataset available is :  (220000, 19)\n",
      "   No. of DSA questions  CGPA Knows ML Knows DSA Knows Python  \\\n",
      "0                   151  8.52      Yes       Yes          Yes   \n",
      "1                    24  1.23      Yes        No           No   \n",
      "\n",
      "  Knows JavaScript Knows HTML Knows CSS Knows Cricket Knows Dance  \\\n",
      "0              Yes         No       Yes            No          No   \n",
      "1              Yes         No        No           Yes          No   \n",
      "\n",
      "  Participated in College Fest Was in Coding Club  No. of backlogs  \\\n",
      "0                          Yes                Yes                2   \n",
      "1                           No                Yes                1   \n",
      "\n",
      "   Interview Room Temperature  Age of Candidate Branch of Engineering  \\\n",
      "0                        24.2                24      Computer Science   \n",
      "1                        20.5                18      Computer Science   \n",
      "\n",
      "   Placement Package  \n",
      "0              20.01  \n",
      "1              10.97  \n"
     ]
    }
   ],
   "source": [
    "print(\"The shape of the dataset available is : \", dataset.shape)\n",
    "# Considering 10000 rows from this dataset to perform the Algorithm\n",
    "dataset = dataset.iloc[:20000,:]\n",
    "\n",
    "# removing irrelevant values form the dataset\n",
    "if 'Name of Student' in dataset.columns and 'Roll No.' in dataset.columns:\n",
    "  dataset = dataset.drop(columns=['Name of Student', 'Roll No.'])\n",
    "print(dataset.head(2))"
   ]
  },
  {
   "cell_type": "markdown",
   "metadata": {},
   "source": [
    "### Visualizing outliners"
   ]
  },
  {
   "cell_type": "code",
   "execution_count": 4,
   "metadata": {},
   "outputs": [
    {
     "data": {
      "image/png": "[encoded data removed]",
      "text/plain": [
       "<Figure size 1000x600 with 1 Axes>"
      ]
     },
     "metadata": {},
     "output_type": "display_data"
    }
   ],
   "source": [
    "# Calculate IQR for detecting outliers\n",
    "Q1 = dataset['Placement Package'].quantile(0.25)\n",
    "Q3 = dataset['Placement Package'].quantile(0.75)\n",
    "IQR = Q3 - Q1\n",
    "lower_bound = Q1 - 1.5 * IQR\n",
    "upper_bound = Q3 + 1.5 * IQR\n",
    "\n",
    "# Identify outliers\n",
    "outliers = dataset[(dataset['Placement Package'] < lower_bound) | (dataset['Placement Package'] > upper_bound)]\n",
    "\n",
    "# Create the box plot without outliers using showfliers=False\n",
    "plt.figure(figsize=(10, 6))\n",
    "sns.boxplot(data=dataset, x='Placement Package', color='skyblue', showfliers=False)\n",
    "plt.title('Enhanced Box Plot with Outliers Highlighted and Annotated for Placement Package')\n",
    "\n",
    "# Plot each outlier as a red dot with annotations\n",
    "for value in outliers['Placement Package']:\n",
    "    plt.plot(0, value, 'ro', markersize=8)  # Red dot for each outlier\n",
    "    plt.text(0.1, value, f'{value:.2f}', color='red', va='center', fontsize=9)  # Display value near the dot\n",
    "\n",
    "# Adding a manual legend for outliers\n",
    "plt.plot([], [], 'ro', label='Outlier')  # Empty plot to add legend entry for 'Outlier'\n",
    "plt.legend(loc='upper right')\n",
    "\n",
    "# Customize labels\n",
    "plt.xlabel('Placement Package')\n",
    "plt.show()"
   ]
  },
  {
   "cell_type": "markdown",
   "metadata": {},
   "source": [
    "### Removing Outliners"
   ]
  },
  {
   "cell_type": "code",
   "execution_count": 5,
   "metadata": {},
   "outputs": [
    {
     "name": "stdout",
     "output_type": "stream",
     "text": [
      "Outliers: []\n"
     ]
    }
   ],
   "source": [
    "print(\"Outliers:\", outliers['Placement Package'].tolist())\n",
    "Q1 = dataset['Placement Package'].quantile(0.25)\n",
    "Q3 = dataset['Placement Package'].quantile(0.75)\n",
    "IQR = Q3 - Q1\n",
    "\n",
    "# Filtering out the outliers\n",
    "dataset = dataset[~((dataset['Placement Package'] < (Q1 - 1.5 * IQR)) | (dataset['Placement Package'] > (Q3 + 1.5 * IQR)))]\n"
   ]
  },
  {
   "cell_type": "markdown",
   "metadata": {
    "id": "ww8Bv58uA7kz"
   },
   "source": [
    "### Checking for missing values"
   ]
  },
  {
   "cell_type": "code",
   "execution_count": 6,
   "metadata": {
    "colab": {
     "base_uri": "https://localhost:8080/"
    },
    "executionInfo": {
     "elapsed": 5,
     "status": "ok",
     "timestamp": 1730393305470,
     "user": {
      "displayName": "mihit singasane",
      "userId": "10672172279252187753"
     },
     "user_tz": -330
    },
    "id": "oPCEBrQQBAOD",
    "outputId": "e5c6fbf6-7cfa-4ca2-d8d5-4d1b7217a76f"
   },
   "outputs": [
    {
     "name": "stdout",
     "output_type": "stream",
     "text": [
      "No. of DSA questions              0\n",
      "CGPA                              0\n",
      "Knows ML                        415\n",
      "Knows DSA                         0\n",
      "Knows Python                    404\n",
      "Knows JavaScript                421\n",
      "Knows HTML                      381\n",
      "Knows CSS                       384\n",
      "Knows Cricket                     0\n",
      "Knows Dance                       0\n",
      "Participated in College Fest      0\n",
      "Was in Coding Club                0\n",
      "No. of backlogs                   0\n",
      "Interview Room Temperature        0\n",
      "Age of Candidate                  0\n",
      "Branch of Engineering             0\n",
      "Placement Package                 0\n",
      "dtype: int64\n"
     ]
    }
   ],
   "source": [
    "print(dataset.isnull().sum())\n",
    "dataset = dataset.dropna()"
   ]
  },
  {
   "cell_type": "code",
   "execution_count": 7,
   "metadata": {},
   "outputs": [],
   "source": [
    "# depedent variable y\n",
    "y = dataset.iloc[:,-1].values\n",
    "# independent variable X\n",
    "X = dataset.iloc[:,:-1].values"
   ]
  },
  {
   "cell_type": "code",
   "execution_count": 8,
   "metadata": {
    "colab": {
     "base_uri": "https://localhost:8080/"
    },
    "executionInfo": {
     "elapsed": 3,
     "status": "ok",
     "timestamp": 1730393305470,
     "user": {
      "displayName": "mihit singasane",
      "userId": "10672172279252187753"
     },
     "user_tz": -330
    },
    "id": "giAjS5GYDLfK",
    "outputId": "fc6f6c35-784d-4ffc-d317-a432e4bdacab"
   },
   "outputs": [
    {
     "name": "stdout",
     "output_type": "stream",
     "text": [
      "[151.0 8.52 'Yes' 'Yes' 'Yes' 'Yes' 'No' 'Yes' 'No' 'No' 'Yes' 'Yes' 2.0\n",
      " 24.2 24.0 'Computer Science']\n",
      "No. of DSA questions            0\n",
      "CGPA                            0\n",
      "Knows ML                        0\n",
      "Knows DSA                       0\n",
      "Knows Python                    0\n",
      "Knows JavaScript                0\n",
      "Knows HTML                      0\n",
      "Knows CSS                       0\n",
      "Knows Cricket                   0\n",
      "Knows Dance                     0\n",
      "Participated in College Fest    0\n",
      "Was in Coding Club              0\n",
      "No. of backlogs                 0\n",
      "Interview Room Temperature      0\n",
      "Age of Candidate                0\n",
      "Branch of Engineering           0\n",
      "Placement Package               0\n",
      "dtype: int64\n"
     ]
    }
   ],
   "source": [
    "from sklearn.impute import SimpleImputer\n",
    "imputer_mode = SimpleImputer(missing_values=np.nan, strategy='most_frequent')\n",
    "imputer_mode.fit(X[:, 2:12])\n",
    "X[:, 2:12] = imputer_mode.transform(X[:, 2:12])\n",
    "\n",
    "imputer_mean = SimpleImputer(missing_values=np.nan, strategy='mean')\n",
    "imputer_mean.fit(X[:, [0, 12, 13, 14]])\n",
    "X[:, [0, 12, 13, 14]] = imputer_mean.transform(X[:, [0, 12, 13, 14]])\n",
    "\n",
    "print(X[0])\n",
    "print(dataset.isnull().sum())"
   ]
  },
  {
   "cell_type": "markdown",
   "metadata": {
    "id": "hYzRXyq-FZ3G"
   },
   "source": [
    "### Encoding independent variables"
   ]
  },
  {
   "cell_type": "markdown",
   "metadata": {
    "id": "ZsPyqQHpGsut"
   },
   "source": [
    "##### single value variables"
   ]
  },
  {
   "cell_type": "code",
   "execution_count": 9,
   "metadata": {
    "colab": {
     "base_uri": "https://localhost:8080/"
    },
    "executionInfo": {
     "elapsed": 4,
     "status": "ok",
     "timestamp": 1730393305470,
     "user": {
      "displayName": "mihit singasane",
      "userId": "10672172279252187753"
     },
     "user_tz": -330
    },
    "id": "NqjE6m6hFsf1",
    "outputId": "b29b03d6-1abf-445a-f94e-576781af3886"
   },
   "outputs": [
    {
     "name": "stdout",
     "output_type": "stream",
     "text": [
      "[[151.0 8.52 1 ... 24.2 24.0 'Computer Science']\n",
      " [24.0 1.23 1 ... 20.5 18.0 'Computer Science']\n",
      " [333.0 9.85 0 ... 21.6 25.0 'Mechanical Engineering']\n",
      " ...\n",
      " [94.0 4.49 0 ... 29.2 23.0 'Electrical Engineering']\n",
      " [385.0 5.11 0 ... 26.2 20.0 'Electrical Engineering']\n",
      " [195.0 8.2 1 ... 22.1 22.0 'Mechanical Engineering']]\n"
     ]
    }
   ],
   "source": [
    "from sklearn.preprocessing import LabelEncoder\n",
    "le = LabelEncoder()\n",
    "for i in range(2, 12):\n",
    "  X[:, i] = le.fit_transform(X[:, i])\n",
    "print(X)"
   ]
  },
  {
   "cell_type": "markdown",
   "metadata": {
    "id": "bw0lHgWZInjm"
   },
   "source": [
    "##### multi-valued variables"
   ]
  },
  {
   "cell_type": "code",
   "execution_count": 10,
   "metadata": {
    "colab": {
     "base_uri": "https://localhost:8080/"
    },
    "executionInfo": {
     "elapsed": 3,
     "status": "ok",
     "timestamp": 1730393305470,
     "user": {
      "displayName": "mihit singasane",
      "userId": "10672172279252187753"
     },
     "user_tz": -330
    },
    "id": "sXDOZPITIuJa",
    "outputId": "6c68e5a8-ef56-4fe2-d64c-6ecedeb2b509"
   },
   "outputs": [
    {
     "name": "stdout",
     "output_type": "stream",
     "text": [
      "[0.0 1.0 0.0 0.0 151.0 8.52 1 1 1 1 0 1 0 0 1 1 2.0 24.2 24.0]\n"
     ]
    }
   ],
   "source": [
    "from sklearn.compose import ColumnTransformer\n",
    "from sklearn.preprocessing import OneHotEncoder\n",
    "ct = ColumnTransformer(transformers=[('encoder', OneHotEncoder(), [15])], remainder='passthrough')\n",
    "X = np.array(ct.fit_transform(X))\n",
    "print(X[0])"
   ]
  },
  {
   "cell_type": "markdown",
   "metadata": {
    "id": "UqLf0wzURIf7"
   },
   "source": [
    "### Splitting the dataset into the Training set and Test set"
   ]
  },
  {
   "cell_type": "code",
   "execution_count": 11,
   "metadata": {
    "executionInfo": {
     "elapsed": 3,
     "status": "ok",
     "timestamp": 1730393305471,
     "user": {
      "displayName": "mihit singasane",
      "userId": "10672172279252187753"
     },
     "user_tz": -330
    },
    "id": "bgJ687aKRKM7"
   },
   "outputs": [],
   "source": [
    "from sklearn.model_selection import train_test_split\n",
    "X_train, X_test, y_train, y_test = train_test_split(X, y, test_size = 0.2, random_state = 42)"
   ]
  },
  {
   "cell_type": "markdown",
   "metadata": {
    "id": "GfRxIvBVRiWS"
   },
   "source": [
    "### Feature Scaling"
   ]
  },
  {
   "cell_type": "code",
   "execution_count": 12,
   "metadata": {
    "colab": {
     "base_uri": "https://localhost:8080/"
    },
    "executionInfo": {
     "elapsed": 3,
     "status": "ok",
     "timestamp": 1730393305471,
     "user": {
      "displayName": "mihit singasane",
      "userId": "10672172279252187753"
     },
     "user_tz": -330
    },
    "id": "zBi329nkRlpG",
    "outputId": "7d715efc-df1d-4c1e-8f2d-5a9650f89b15"
   },
   "outputs": [
    {
     "name": "stdout",
     "output_type": "stream",
     "text": [
      "[0.0 1.0 0.0 0.0 -0.21138273200629137 0.32010873990301597 0 0 0 1 1 1 1 0\n",
      " 1 1 -1.4633768282085629 0.3115919480076398 -1.5153897430611423]\n"
     ]
    }
   ],
   "source": [
    "from sklearn.preprocessing import StandardScaler\n",
    "\n",
    "columns_to_scale = [4, 5, 16, 17, 18]\n",
    "\n",
    "# Separate the columns to scale and the remaining columns\n",
    "X_train_to_scale = X_train[:, columns_to_scale]\n",
    "X_train_rest = np.delete(X_train, columns_to_scale, axis=1)\n",
    "# Apply scaling only to the specified columns\n",
    "sc = StandardScaler()\n",
    "X_train_scaled = sc.fit_transform(X_train_to_scale)\n",
    "# Merge scaled and unscaled columns back in the original order\n",
    "X_train[:, columns_to_scale] = X_train_scaled\n",
    "\n",
    "# for test data\n",
    "X_test_to_scale = X_test[:, columns_to_scale]\n",
    "X_test_rest = np.delete(X_test, columns_to_scale, axis=1)\n",
    "X_test_scaled = sc.transform(X_test_to_scale)\n",
    "X_test[:, columns_to_scale] = X_test_scaled\n",
    "print(X_train[0])"
   ]
  },
  {
   "cell_type": "code",
   "execution_count": 13,
   "metadata": {},
   "outputs": [
    {
     "name": "stdout",
     "output_type": "stream",
     "text": [
      "(14448,)\n",
      "False\n",
      "[ 2.5   2.51  2.52 ... 57.94 57.96 57.97]\n",
      "(14448, 19) (14448,)\n"
     ]
    }
   ],
   "source": [
    "print(y_train.shape)\n",
    "print(np.isnan(y_train).any())\n",
    "print(np.unique(y_train))\n",
    "print(X_train.shape, y_train.shape)"
   ]
  },
  {
   "cell_type": "markdown",
   "metadata": {},
   "source": [
    "### testing accuracy "
   ]
  },
  {
   "cell_type": "code",
   "execution_count": 14,
   "metadata": {},
   "outputs": [
    {
     "name": "stdout",
     "output_type": "stream",
     "text": [
      "Random Forest:\n",
      "Cross-validation MSE: 80.265 (+/- 1.771)\n",
      "Mean Absolute Error: 6.018\n",
      "Mean Squared Error: 85.798\n",
      "R-squared: 0.655\n",
      "\n",
      "============================================================\n",
      "\n",
      "Gradient Boosting:\n",
      "Cross-validation MSE: 76.635 (+/- 1.768)\n",
      "Mean Absolute Error: 5.969\n",
      "Mean Squared Error: 82.935\n",
      "R-squared: 0.667\n",
      "\n",
      "============================================================\n",
      "\n",
      "Support Vector Regression:\n",
      "Cross-validation MSE: 119.516 (+/- 3.133)\n",
      "Mean Absolute Error: 7.528\n",
      "Mean Squared Error: 125.703\n",
      "R-squared: 0.495\n",
      "\n",
      "============================================================\n",
      "\n",
      "K-Nearest Neighbors:\n",
      "Cross-validation MSE: 128.424 (+/- 3.964)\n",
      "Mean Absolute Error: 8.280\n",
      "Mean Squared Error: 133.005\n",
      "R-squared: 0.466\n",
      "\n",
      "============================================================\n",
      "\n",
      "Decision Tree:\n",
      "Cross-validation MSE: 157.004 (+/- 1.339)\n",
      "Mean Absolute Error: 7.767\n",
      "Mean Squared Error: 159.431\n",
      "R-squared: 0.359\n",
      "\n",
      "============================================================\n",
      "\n",
      "Linear Regression:\n",
      "Cross-validation MSE: 115.923 (+/- 2.948)\n",
      "Mean Absolute Error: 8.609\n",
      "Mean Squared Error: 121.528\n",
      "R-squared: 0.512\n",
      "\n",
      "============================================================\n",
      "\n"
     ]
    }
   ],
   "source": [
    "from sklearn.ensemble import RandomForestRegressor, GradientBoostingRegressor\n",
    "from sklearn.svm import SVR\n",
    "from sklearn.neighbors import KNeighborsRegressor\n",
    "from sklearn.tree import DecisionTreeRegressor\n",
    "from sklearn.linear_model import LinearRegression\n",
    "from sklearn.metrics import mean_absolute_error, mean_squared_error, r2_score\n",
    "\n",
    "# Define regression models\n",
    "models = {\n",
    "    'Random Forest': RandomForestRegressor(),\n",
    "    'Gradient Boosting': GradientBoostingRegressor(),\n",
    "    'Support Vector Regression': SVR(),\n",
    "    'K-Nearest Neighbors': KNeighborsRegressor(),\n",
    "    'Decision Tree': DecisionTreeRegressor(),\n",
    "    'Linear Regression': LinearRegression()\n",
    "}\n",
    "\n",
    "# Evaluate each model\n",
    "for name, model in models.items():\n",
    "    print(f\"{name}:\")\n",
    "    \n",
    "    # Cross-validation scores\n",
    "    cv_scores = cross_val_score(model, X_train, y_train, cv=5, scoring='neg_mean_squared_error')\n",
    "    print(f\"Cross-validation MSE: {-cv_scores.mean():.3f} (+/- {cv_scores.std():.3f})\")\n",
    "    \n",
    "    # Train and predict\n",
    "    model.fit(X_train, y_train)\n",
    "    y_pred = model.predict(X_test)\n",
    "\n",
    "    # Calculate regression metrics\n",
    "    mae = mean_absolute_error(y_test, y_pred)\n",
    "    mse = mean_squared_error(y_test, y_pred)\n",
    "    r2 = r2_score(y_test, y_pred)\n",
    "\n",
    "    print(f\"Mean Absolute Error: {mae:.3f}\")\n",
    "    print(f\"Mean Squared Error: {mse:.3f}\")\n",
    "    print(f\"R-squared: {r2:.3f}\")\n",
    "    print(\"\\n\" + \"=\"*60 + \"\\n\")"
   ]
  },
  {
   "cell_type": "code",
   "execution_count": null,
   "metadata": {},
   "outputs": [
    {
     "name": "stdout",
     "output_type": "stream",
     "text": [
      "Fitting 5 folds for each of 18000 candidates, totalling 90000 fits\n"
     ]
    },
    {
     "ename": "KeyboardInterrupt",
     "evalue": "",
     "output_type": "error",
     "traceback": [
      "\u001b[1;31m---------------------------------------------------------------------------\u001b[0m",
      "\u001b[1;31mKeyboardInterrupt\u001b[0m                         Traceback (most recent call last)",
      "Cell \u001b[1;32mIn[17], line 23\u001b[0m\n\u001b[0;32m     18\u001b[0m grid_search \u001b[38;5;241m=\u001b[39m GridSearchCV(estimator\u001b[38;5;241m=\u001b[39mgbr, param_grid\u001b[38;5;241m=\u001b[39mparam_grid, \n\u001b[0;32m     19\u001b[0m                            scoring\u001b[38;5;241m=\u001b[39m\u001b[38;5;124m'\u001b[39m\u001b[38;5;124mneg_mean_absolute_error\u001b[39m\u001b[38;5;124m'\u001b[39m, \n\u001b[0;32m     20\u001b[0m                            cv\u001b[38;5;241m=\u001b[39m\u001b[38;5;241m5\u001b[39m, verbose\u001b[38;5;241m=\u001b[39m\u001b[38;5;241m1\u001b[39m, n_jobs\u001b[38;5;241m=\u001b[39m\u001b[38;5;241m-\u001b[39m\u001b[38;5;241m1\u001b[39m)\n\u001b[0;32m     22\u001b[0m \u001b[38;5;66;03m# Fit the grid search\u001b[39;00m\n\u001b[1;32m---> 23\u001b[0m \u001b[43mgrid_search\u001b[49m\u001b[38;5;241;43m.\u001b[39;49m\u001b[43mfit\u001b[49m\u001b[43m(\u001b[49m\u001b[43mX_train\u001b[49m\u001b[43m,\u001b[49m\u001b[43m \u001b[49m\u001b[43my_train\u001b[49m\u001b[43m)\u001b[49m\n\u001b[0;32m     25\u001b[0m \u001b[38;5;66;03m# Get the best parameters and score\u001b[39;00m\n\u001b[0;32m     26\u001b[0m best_params \u001b[38;5;241m=\u001b[39m grid_search\u001b[38;5;241m.\u001b[39mbest_params_\n",
      "File \u001b[1;32mc:\\Users\\Mihit Singasane\\OneDrive\\Desktop\\coding\\python ML project - campus placement\\.venv\\Lib\\site-packages\\sklearn\\base.py:1473\u001b[0m, in \u001b[0;36m_fit_context.<locals>.decorator.<locals>.wrapper\u001b[1;34m(estimator, *args, **kwargs)\u001b[0m\n\u001b[0;32m   1466\u001b[0m     estimator\u001b[38;5;241m.\u001b[39m_validate_params()\n\u001b[0;32m   1468\u001b[0m \u001b[38;5;28;01mwith\u001b[39;00m config_context(\n\u001b[0;32m   1469\u001b[0m     skip_parameter_validation\u001b[38;5;241m=\u001b[39m(\n\u001b[0;32m   1470\u001b[0m         prefer_skip_nested_validation \u001b[38;5;129;01mor\u001b[39;00m global_skip_validation\n\u001b[0;32m   1471\u001b[0m     )\n\u001b[0;32m   1472\u001b[0m ):\n\u001b[1;32m-> 1473\u001b[0m     \u001b[38;5;28;01mreturn\u001b[39;00m \u001b[43mfit_method\u001b[49m\u001b[43m(\u001b[49m\u001b[43mestimator\u001b[49m\u001b[43m,\u001b[49m\u001b[43m \u001b[49m\u001b[38;5;241;43m*\u001b[39;49m\u001b[43margs\u001b[49m\u001b[43m,\u001b[49m\u001b[43m \u001b[49m\u001b[38;5;241;43m*\u001b[39;49m\u001b[38;5;241;43m*\u001b[39;49m\u001b[43mkwargs\u001b[49m\u001b[43m)\u001b[49m\n",
      "File \u001b[1;32mc:\\Users\\Mihit Singasane\\OneDrive\\Desktop\\coding\\python ML project - campus placement\\.venv\\Lib\\site-packages\\sklearn\\model_selection\\_search.py:1019\u001b[0m, in \u001b[0;36mBaseSearchCV.fit\u001b[1;34m(self, X, y, **params)\u001b[0m\n\u001b[0;32m   1013\u001b[0m     results \u001b[38;5;241m=\u001b[39m \u001b[38;5;28mself\u001b[39m\u001b[38;5;241m.\u001b[39m_format_results(\n\u001b[0;32m   1014\u001b[0m         all_candidate_params, n_splits, all_out, all_more_results\n\u001b[0;32m   1015\u001b[0m     )\n\u001b[0;32m   1017\u001b[0m     \u001b[38;5;28;01mreturn\u001b[39;00m results\n\u001b[1;32m-> 1019\u001b[0m \u001b[38;5;28;43mself\u001b[39;49m\u001b[38;5;241;43m.\u001b[39;49m\u001b[43m_run_search\u001b[49m\u001b[43m(\u001b[49m\u001b[43mevaluate_candidates\u001b[49m\u001b[43m)\u001b[49m\n\u001b[0;32m   1021\u001b[0m \u001b[38;5;66;03m# multimetric is determined here because in the case of a callable\u001b[39;00m\n\u001b[0;32m   1022\u001b[0m \u001b[38;5;66;03m# self.scoring the return type is only known after calling\u001b[39;00m\n\u001b[0;32m   1023\u001b[0m first_test_score \u001b[38;5;241m=\u001b[39m all_out[\u001b[38;5;241m0\u001b[39m][\u001b[38;5;124m\"\u001b[39m\u001b[38;5;124mtest_scores\u001b[39m\u001b[38;5;124m\"\u001b[39m]\n",
      "File \u001b[1;32mc:\\Users\\Mihit Singasane\\OneDrive\\Desktop\\coding\\python ML project - campus placement\\.venv\\Lib\\site-packages\\sklearn\\model_selection\\_search.py:1573\u001b[0m, in \u001b[0;36mGridSearchCV._run_search\u001b[1;34m(self, evaluate_candidates)\u001b[0m\n\u001b[0;32m   1571\u001b[0m \u001b[38;5;28;01mdef\u001b[39;00m \u001b[38;5;21m_run_search\u001b[39m(\u001b[38;5;28mself\u001b[39m, evaluate_candidates):\n\u001b[0;32m   1572\u001b[0m \u001b[38;5;250m    \u001b[39m\u001b[38;5;124;03m\"\"\"Search all candidates in param_grid\"\"\"\u001b[39;00m\n\u001b[1;32m-> 1573\u001b[0m     \u001b[43mevaluate_candidates\u001b[49m\u001b[43m(\u001b[49m\u001b[43mParameterGrid\u001b[49m\u001b[43m(\u001b[49m\u001b[38;5;28;43mself\u001b[39;49m\u001b[38;5;241;43m.\u001b[39;49m\u001b[43mparam_grid\u001b[49m\u001b[43m)\u001b[49m\u001b[43m)\u001b[49m\n",
      "File \u001b[1;32mc:\\Users\\Mihit Singasane\\OneDrive\\Desktop\\coding\\python ML project - campus placement\\.venv\\Lib\\site-packages\\sklearn\\model_selection\\_search.py:965\u001b[0m, in \u001b[0;36mBaseSearchCV.fit.<locals>.evaluate_candidates\u001b[1;34m(candidate_params, cv, more_results)\u001b[0m\n\u001b[0;32m    957\u001b[0m \u001b[38;5;28;01mif\u001b[39;00m \u001b[38;5;28mself\u001b[39m\u001b[38;5;241m.\u001b[39mverbose \u001b[38;5;241m>\u001b[39m \u001b[38;5;241m0\u001b[39m:\n\u001b[0;32m    958\u001b[0m     \u001b[38;5;28mprint\u001b[39m(\n\u001b[0;32m    959\u001b[0m         \u001b[38;5;124m\"\u001b[39m\u001b[38;5;124mFitting \u001b[39m\u001b[38;5;132;01m{0}\u001b[39;00m\u001b[38;5;124m folds for each of \u001b[39m\u001b[38;5;132;01m{1}\u001b[39;00m\u001b[38;5;124m candidates,\u001b[39m\u001b[38;5;124m\"\u001b[39m\n\u001b[0;32m    960\u001b[0m         \u001b[38;5;124m\"\u001b[39m\u001b[38;5;124m totalling \u001b[39m\u001b[38;5;132;01m{2}\u001b[39;00m\u001b[38;5;124m fits\u001b[39m\u001b[38;5;124m\"\u001b[39m\u001b[38;5;241m.\u001b[39mformat(\n\u001b[0;32m    961\u001b[0m             n_splits, n_candidates, n_candidates \u001b[38;5;241m*\u001b[39m n_splits\n\u001b[0;32m    962\u001b[0m         )\n\u001b[0;32m    963\u001b[0m     )\n\u001b[1;32m--> 965\u001b[0m out \u001b[38;5;241m=\u001b[39m \u001b[43mparallel\u001b[49m\u001b[43m(\u001b[49m\n\u001b[0;32m    966\u001b[0m \u001b[43m    \u001b[49m\u001b[43mdelayed\u001b[49m\u001b[43m(\u001b[49m\u001b[43m_fit_and_score\u001b[49m\u001b[43m)\u001b[49m\u001b[43m(\u001b[49m\n\u001b[0;32m    967\u001b[0m \u001b[43m        \u001b[49m\u001b[43mclone\u001b[49m\u001b[43m(\u001b[49m\u001b[43mbase_estimator\u001b[49m\u001b[43m)\u001b[49m\u001b[43m,\u001b[49m\n\u001b[0;32m    968\u001b[0m \u001b[43m        \u001b[49m\u001b[43mX\u001b[49m\u001b[43m,\u001b[49m\n\u001b[0;32m    969\u001b[0m \u001b[43m        \u001b[49m\u001b[43my\u001b[49m\u001b[43m,\u001b[49m\n\u001b[0;32m    970\u001b[0m \u001b[43m        \u001b[49m\u001b[43mtrain\u001b[49m\u001b[38;5;241;43m=\u001b[39;49m\u001b[43mtrain\u001b[49m\u001b[43m,\u001b[49m\n\u001b[0;32m    971\u001b[0m \u001b[43m        \u001b[49m\u001b[43mtest\u001b[49m\u001b[38;5;241;43m=\u001b[39;49m\u001b[43mtest\u001b[49m\u001b[43m,\u001b[49m\n\u001b[0;32m    972\u001b[0m \u001b[43m        \u001b[49m\u001b[43mparameters\u001b[49m\u001b[38;5;241;43m=\u001b[39;49m\u001b[43mparameters\u001b[49m\u001b[43m,\u001b[49m\n\u001b[0;32m    973\u001b[0m \u001b[43m        \u001b[49m\u001b[43msplit_progress\u001b[49m\u001b[38;5;241;43m=\u001b[39;49m\u001b[43m(\u001b[49m\u001b[43msplit_idx\u001b[49m\u001b[43m,\u001b[49m\u001b[43m \u001b[49m\u001b[43mn_splits\u001b[49m\u001b[43m)\u001b[49m\u001b[43m,\u001b[49m\n\u001b[0;32m    974\u001b[0m \u001b[43m        \u001b[49m\u001b[43mcandidate_progress\u001b[49m\u001b[38;5;241;43m=\u001b[39;49m\u001b[43m(\u001b[49m\u001b[43mcand_idx\u001b[49m\u001b[43m,\u001b[49m\u001b[43m \u001b[49m\u001b[43mn_candidates\u001b[49m\u001b[43m)\u001b[49m\u001b[43m,\u001b[49m\n\u001b[0;32m    975\u001b[0m \u001b[43m        \u001b[49m\u001b[38;5;241;43m*\u001b[39;49m\u001b[38;5;241;43m*\u001b[39;49m\u001b[43mfit_and_score_kwargs\u001b[49m\u001b[43m,\u001b[49m\n\u001b[0;32m    976\u001b[0m \u001b[43m    \u001b[49m\u001b[43m)\u001b[49m\n\u001b[0;32m    977\u001b[0m \u001b[43m    \u001b[49m\u001b[38;5;28;43;01mfor\u001b[39;49;00m\u001b[43m \u001b[49m\u001b[43m(\u001b[49m\u001b[43mcand_idx\u001b[49m\u001b[43m,\u001b[49m\u001b[43m \u001b[49m\u001b[43mparameters\u001b[49m\u001b[43m)\u001b[49m\u001b[43m,\u001b[49m\u001b[43m \u001b[49m\u001b[43m(\u001b[49m\u001b[43msplit_idx\u001b[49m\u001b[43m,\u001b[49m\u001b[43m \u001b[49m\u001b[43m(\u001b[49m\u001b[43mtrain\u001b[49m\u001b[43m,\u001b[49m\u001b[43m \u001b[49m\u001b[43mtest\u001b[49m\u001b[43m)\u001b[49m\u001b[43m)\u001b[49m\u001b[43m \u001b[49m\u001b[38;5;129;43;01min\u001b[39;49;00m\u001b[43m \u001b[49m\u001b[43mproduct\u001b[49m\u001b[43m(\u001b[49m\n\u001b[0;32m    978\u001b[0m \u001b[43m        \u001b[49m\u001b[38;5;28;43menumerate\u001b[39;49m\u001b[43m(\u001b[49m\u001b[43mcandidate_params\u001b[49m\u001b[43m)\u001b[49m\u001b[43m,\u001b[49m\n\u001b[0;32m    979\u001b[0m \u001b[43m        \u001b[49m\u001b[38;5;28;43menumerate\u001b[39;49m\u001b[43m(\u001b[49m\u001b[43mcv\u001b[49m\u001b[38;5;241;43m.\u001b[39;49m\u001b[43msplit\u001b[49m\u001b[43m(\u001b[49m\u001b[43mX\u001b[49m\u001b[43m,\u001b[49m\u001b[43m \u001b[49m\u001b[43my\u001b[49m\u001b[43m,\u001b[49m\u001b[43m \u001b[49m\u001b[38;5;241;43m*\u001b[39;49m\u001b[38;5;241;43m*\u001b[39;49m\u001b[43mrouted_params\u001b[49m\u001b[38;5;241;43m.\u001b[39;49m\u001b[43msplitter\u001b[49m\u001b[38;5;241;43m.\u001b[39;49m\u001b[43msplit\u001b[49m\u001b[43m)\u001b[49m\u001b[43m)\u001b[49m\u001b[43m,\u001b[49m\n\u001b[0;32m    980\u001b[0m \u001b[43m    \u001b[49m\u001b[43m)\u001b[49m\n\u001b[0;32m    981\u001b[0m \u001b[43m\u001b[49m\u001b[43m)\u001b[49m\n\u001b[0;32m    983\u001b[0m \u001b[38;5;28;01mif\u001b[39;00m \u001b[38;5;28mlen\u001b[39m(out) \u001b[38;5;241m<\u001b[39m \u001b[38;5;241m1\u001b[39m:\n\u001b[0;32m    984\u001b[0m     \u001b[38;5;28;01mraise\u001b[39;00m \u001b[38;5;167;01mValueError\u001b[39;00m(\n\u001b[0;32m    985\u001b[0m         \u001b[38;5;124m\"\u001b[39m\u001b[38;5;124mNo fits were performed. \u001b[39m\u001b[38;5;124m\"\u001b[39m\n\u001b[0;32m    986\u001b[0m         \u001b[38;5;124m\"\u001b[39m\u001b[38;5;124mWas the CV iterator empty? \u001b[39m\u001b[38;5;124m\"\u001b[39m\n\u001b[0;32m    987\u001b[0m         \u001b[38;5;124m\"\u001b[39m\u001b[38;5;124mWere there no candidates?\u001b[39m\u001b[38;5;124m\"\u001b[39m\n\u001b[0;32m    988\u001b[0m     )\n",
      "File \u001b[1;32mc:\\Users\\Mihit Singasane\\OneDrive\\Desktop\\coding\\python ML project - campus placement\\.venv\\Lib\\site-packages\\sklearn\\utils\\parallel.py:74\u001b[0m, in \u001b[0;36mParallel.__call__\u001b[1;34m(self, iterable)\u001b[0m\n\u001b[0;32m     69\u001b[0m config \u001b[38;5;241m=\u001b[39m get_config()\n\u001b[0;32m     70\u001b[0m iterable_with_config \u001b[38;5;241m=\u001b[39m (\n\u001b[0;32m     71\u001b[0m     (_with_config(delayed_func, config), args, kwargs)\n\u001b[0;32m     72\u001b[0m     \u001b[38;5;28;01mfor\u001b[39;00m delayed_func, args, kwargs \u001b[38;5;129;01min\u001b[39;00m iterable\n\u001b[0;32m     73\u001b[0m )\n\u001b[1;32m---> 74\u001b[0m \u001b[38;5;28;01mreturn\u001b[39;00m \u001b[38;5;28;43msuper\u001b[39;49m\u001b[43m(\u001b[49m\u001b[43m)\u001b[49m\u001b[38;5;241;43m.\u001b[39;49m\u001b[38;5;21;43m__call__\u001b[39;49m\u001b[43m(\u001b[49m\u001b[43miterable_with_config\u001b[49m\u001b[43m)\u001b[49m\n",
      "File \u001b[1;32mc:\\Users\\Mihit Singasane\\OneDrive\\Desktop\\coding\\python ML project - campus placement\\.venv\\Lib\\site-packages\\joblib\\parallel.py:2007\u001b[0m, in \u001b[0;36mParallel.__call__\u001b[1;34m(self, iterable)\u001b[0m\n\u001b[0;32m   2001\u001b[0m \u001b[38;5;66;03m# The first item from the output is blank, but it makes the interpreter\u001b[39;00m\n\u001b[0;32m   2002\u001b[0m \u001b[38;5;66;03m# progress until it enters the Try/Except block of the generator and\u001b[39;00m\n\u001b[0;32m   2003\u001b[0m \u001b[38;5;66;03m# reaches the first `yield` statement. This starts the asynchronous\u001b[39;00m\n\u001b[0;32m   2004\u001b[0m \u001b[38;5;66;03m# dispatch of the tasks to the workers.\u001b[39;00m\n\u001b[0;32m   2005\u001b[0m \u001b[38;5;28mnext\u001b[39m(output)\n\u001b[1;32m-> 2007\u001b[0m \u001b[38;5;28;01mreturn\u001b[39;00m output \u001b[38;5;28;01mif\u001b[39;00m \u001b[38;5;28mself\u001b[39m\u001b[38;5;241m.\u001b[39mreturn_generator \u001b[38;5;28;01melse\u001b[39;00m \u001b[38;5;28mlist\u001b[39m(output)\n",
      "File \u001b[1;32mc:\\Users\\Mihit Singasane\\OneDrive\\Desktop\\coding\\python ML project - campus placement\\.venv\\Lib\\site-packages\\joblib\\parallel.py:1650\u001b[0m, in \u001b[0;36mParallel._get_outputs\u001b[1;34m(self, iterator, pre_dispatch)\u001b[0m\n\u001b[0;32m   1647\u001b[0m     \u001b[38;5;28;01myield\u001b[39;00m\n\u001b[0;32m   1649\u001b[0m     \u001b[38;5;28;01mwith\u001b[39;00m \u001b[38;5;28mself\u001b[39m\u001b[38;5;241m.\u001b[39m_backend\u001b[38;5;241m.\u001b[39mretrieval_context():\n\u001b[1;32m-> 1650\u001b[0m         \u001b[38;5;28;01myield from\u001b[39;00m \u001b[38;5;28mself\u001b[39m\u001b[38;5;241m.\u001b[39m_retrieve()\n\u001b[0;32m   1652\u001b[0m \u001b[38;5;28;01mexcept\u001b[39;00m \u001b[38;5;167;01mGeneratorExit\u001b[39;00m:\n\u001b[0;32m   1653\u001b[0m     \u001b[38;5;66;03m# The generator has been garbage collected before being fully\u001b[39;00m\n\u001b[0;32m   1654\u001b[0m     \u001b[38;5;66;03m# consumed. This aborts the remaining tasks if possible and warn\u001b[39;00m\n\u001b[0;32m   1655\u001b[0m     \u001b[38;5;66;03m# the user if necessary.\u001b[39;00m\n\u001b[0;32m   1656\u001b[0m     \u001b[38;5;28mself\u001b[39m\u001b[38;5;241m.\u001b[39m_exception \u001b[38;5;241m=\u001b[39m \u001b[38;5;28;01mTrue\u001b[39;00m\n",
      "File \u001b[1;32mc:\\Users\\Mihit Singasane\\OneDrive\\Desktop\\coding\\python ML project - campus placement\\.venv\\Lib\\site-packages\\joblib\\parallel.py:1762\u001b[0m, in \u001b[0;36mParallel._retrieve\u001b[1;34m(self)\u001b[0m\n\u001b[0;32m   1757\u001b[0m \u001b[38;5;66;03m# If the next job is not ready for retrieval yet, we just wait for\u001b[39;00m\n\u001b[0;32m   1758\u001b[0m \u001b[38;5;66;03m# async callbacks to progress.\u001b[39;00m\n\u001b[0;32m   1759\u001b[0m \u001b[38;5;28;01mif\u001b[39;00m ((\u001b[38;5;28mlen\u001b[39m(\u001b[38;5;28mself\u001b[39m\u001b[38;5;241m.\u001b[39m_jobs) \u001b[38;5;241m==\u001b[39m \u001b[38;5;241m0\u001b[39m) \u001b[38;5;129;01mor\u001b[39;00m\n\u001b[0;32m   1760\u001b[0m     (\u001b[38;5;28mself\u001b[39m\u001b[38;5;241m.\u001b[39m_jobs[\u001b[38;5;241m0\u001b[39m]\u001b[38;5;241m.\u001b[39mget_status(\n\u001b[0;32m   1761\u001b[0m         timeout\u001b[38;5;241m=\u001b[39m\u001b[38;5;28mself\u001b[39m\u001b[38;5;241m.\u001b[39mtimeout) \u001b[38;5;241m==\u001b[39m TASK_PENDING)):\n\u001b[1;32m-> 1762\u001b[0m     time\u001b[38;5;241m.\u001b[39msleep(\u001b[38;5;241m0.01\u001b[39m)\n\u001b[0;32m   1763\u001b[0m     \u001b[38;5;28;01mcontinue\u001b[39;00m\n\u001b[0;32m   1765\u001b[0m \u001b[38;5;66;03m# We need to be careful: the job list can be filling up as\u001b[39;00m\n\u001b[0;32m   1766\u001b[0m \u001b[38;5;66;03m# we empty it and Python list are not thread-safe by\u001b[39;00m\n\u001b[0;32m   1767\u001b[0m \u001b[38;5;66;03m# default hence the use of the lock\u001b[39;00m\n",
      "\u001b[1;31mKeyboardInterrupt\u001b[0m: "
     ]
    }
   ],
   "source": [
    "from sklearn.model_selection import RandomizedSearchCV\n",
    "\n",
    "# Define the model\n",
    "gbr = GradientBoostingRegressor()\n",
    "\n",
    "# Set up the parameter grid\n",
    "param_grid = {\n",
    "    'n_estimators': [50, 100, 200],\n",
    "    'learning_rate': [0.05, 0.1, 0.15],\n",
    "    'max_depth': [3, 4, 5],\n",
    "    'min_samples_split': [2, 5],\n",
    "    'min_samples_leaf': [1, 2],\n",
    "    'subsample': [0.9, 1.0],\n",
    "    'max_features': ['auto', 'sqrt'],\n",
    "}\n",
    "\n",
    "# Set up the randomized search\n",
    "random_search = RandomizedSearchCV(estimator=gbr, param_distributions=param_grid, \n",
    "                                   scoring='neg_mean_absolute_error', \n",
    "                                   n_iter=20,  # Number of parameter settings to sample\n",
    "                                   cv=5, verbose=1, n_jobs=-1, random_state=42)\n",
    "\n",
    "# Fit the randomized search\n",
    "random_search.fit(X_train, y_train)\n",
    "\n",
    "# Get the best parameters and score\n",
    "best_params = random_search.best_params_\n",
    "best_score = -random_search.best_score_\n",
    "\n",
    "# Print the best parameters and score\n",
    "print(\"Best Parameters from Randomized Search:\")\n",
    "for param, value in best_params.items():\n",
    "    print(f\"{param}: {value}\")\n",
    "\n",
    "print(f\"\\nBest MAE from Randomized Search: {best_score}\")\n"
   ]
  }
 ],
 "metadata": {
  "colab": {
   "provenance": []
  },
  "kernelspec": {
   "display_name": ".venv",
   "language": "python",
   "name": "python3"
  },
  "language_info": {
   "codemirror_mode": {
    "name": "ipython",
    "version": 3
   },
   "file_extension": ".py",
   "mimetype": "text/x-python",
   "name": "python",
   "nbconvert_exporter": "python",
   "pygments_lexer": "ipython3",
   "version": "3.11.9"
  }
 },
 "nbformat": 4,
 "nbformat_minor": 0
}
