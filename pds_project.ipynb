{
 "cells": [
  {
   "cell_type": "markdown",
   "metadata": {
    "id": "EF_5ubgi5_SU"
   },
   "source": [
    "### Importing the libraries"
   ]
  },
  {
   "cell_type": "code",
   "execution_count": 1,
   "metadata": {
    "executionInfo": {
     "elapsed": 410,
     "status": "ok",
     "timestamp": 1730393303692,
     "user": {
      "displayName": "mihit singasane",
      "userId": "10672172279252187753"
     },
     "user_tz": -330
    },
    "id": "qM1251J05-Xc"
   },
   "outputs": [],
   "source": [
    "import pandas as pd\n",
    "import numpy as np\n",
    "from sklearn.model_selection import cross_val_score, train_test_split\n",
    "from sklearn.preprocessing import StandardScaler\n",
    "from sklearn.ensemble import RandomForestClassifier, GradientBoostingClassifier\n",
    "from sklearn.svm import SVC\n",
    "from sklearn.neighbors import KNeighborsClassifier\n",
    "from sklearn.naive_bayes import GaussianNB\n",
    "from sklearn.linear_model import LogisticRegression\n",
    "from sklearn.neural_network import MLPClassifier\n",
    "from sklearn.tree import DecisionTreeClassifier\n",
    "from sklearn.metrics import classification_report, confusion_matrix\n",
    "import matplotlib.pyplot as plt\n",
    "import seaborn as sns\n",
    "\n",
    "import pandas as pd\n",
    "import numpy as np\n",
    "from sklearn.model_selection import train_test_split\n",
    "from sklearn.ensemble import RandomForestClassifier\n",
    "from sklearn.preprocessing import LabelEncoder\n",
    "from sklearn.metrics import classification_report\n",
    "import warnings"
   ]
  },
  {
   "cell_type": "markdown",
   "metadata": {
    "id": "PaXiiQMJ7THU"
   },
   "source": [
    "### Loading the dataset"
   ]
  },
  {
   "cell_type": "code",
   "execution_count": 2,
   "metadata": {
    "colab": {
     "base_uri": "https://localhost:8080/",
     "height": 365
    },
    "executionInfo": {
     "elapsed": 857,
     "status": "ok",
     "timestamp": 1730393304986,
     "user": {
      "displayName": "mihit singasane",
      "userId": "10672172279252187753"
     },
     "user_tz": -330
    },
    "id": "FEzEUvUJ7bPi",
    "outputId": "fa7f4d45-f4d7-4534-b63a-0ec5e6bbf87d"
   },
   "outputs": [
    {
     "data": {
      "text/html": [
       "<div>\n",
       "<style scoped>\n",
       "    .dataframe tbody tr th:only-of-type {\n",
       "        vertical-align: middle;\n",
       "    }\n",
       "\n",
       "    .dataframe tbody tr th {\n",
       "        vertical-align: top;\n",
       "    }\n",
       "\n",
       "    .dataframe thead th {\n",
       "        text-align: right;\n",
       "    }\n",
       "</style>\n",
       "<table border=\"1\" class=\"dataframe\">\n",
       "  <thead>\n",
       "    <tr style=\"text-align: right;\">\n",
       "      <th></th>\n",
       "      <th>Name of Student</th>\n",
       "      <th>Roll No.</th>\n",
       "      <th>No. of DSA questions</th>\n",
       "      <th>CGPA</th>\n",
       "      <th>Knows ML</th>\n",
       "      <th>Knows DSA</th>\n",
       "      <th>Knows Python</th>\n",
       "      <th>Knows JavaScript</th>\n",
       "      <th>Knows HTML</th>\n",
       "      <th>Knows CSS</th>\n",
       "      <th>Knows Cricket</th>\n",
       "      <th>Knows Dance</th>\n",
       "      <th>Participated in College Fest</th>\n",
       "      <th>Was in Coding Club</th>\n",
       "      <th>No. of backlogs</th>\n",
       "      <th>Interview Room Temperature</th>\n",
       "      <th>Age of Candidate</th>\n",
       "      <th>Branch of Engineering</th>\n",
       "      <th>Placement Package</th>\n",
       "    </tr>\n",
       "  </thead>\n",
       "  <tbody>\n",
       "    <tr>\n",
       "      <th>0</th>\n",
       "      <td>Hunter Roberts</td>\n",
       "      <td>43384</td>\n",
       "      <td>83</td>\n",
       "      <td>3.940755</td>\n",
       "      <td>Yes</td>\n",
       "      <td>No</td>\n",
       "      <td>Yes</td>\n",
       "      <td>Yes</td>\n",
       "      <td>No</td>\n",
       "      <td>No</td>\n",
       "      <td>No</td>\n",
       "      <td>Yes</td>\n",
       "      <td>Yes</td>\n",
       "      <td>No</td>\n",
       "      <td>3</td>\n",
       "      <td>25.8</td>\n",
       "      <td>20</td>\n",
       "      <td>Civil Engineering</td>\n",
       "      <td>11.08</td>\n",
       "    </tr>\n",
       "    <tr>\n",
       "      <th>1</th>\n",
       "      <td>Christopher Burton</td>\n",
       "      <td>79402</td>\n",
       "      <td>159</td>\n",
       "      <td>4.663760</td>\n",
       "      <td>Yes</td>\n",
       "      <td>Yes</td>\n",
       "      <td>No</td>\n",
       "      <td>Yes</td>\n",
       "      <td>No</td>\n",
       "      <td>No</td>\n",
       "      <td>Yes</td>\n",
       "      <td>No</td>\n",
       "      <td>Yes</td>\n",
       "      <td>No</td>\n",
       "      <td>2</td>\n",
       "      <td>22.3</td>\n",
       "      <td>20</td>\n",
       "      <td>Mechanical Engineering</td>\n",
       "      <td>16.77</td>\n",
       "    </tr>\n",
       "    <tr>\n",
       "      <th>2</th>\n",
       "      <td>Laura Calderon</td>\n",
       "      <td>97041</td>\n",
       "      <td>346</td>\n",
       "      <td>4.454998</td>\n",
       "      <td>No</td>\n",
       "      <td>Yes</td>\n",
       "      <td>No</td>\n",
       "      <td>Yes</td>\n",
       "      <td>Yes</td>\n",
       "      <td>No</td>\n",
       "      <td>No</td>\n",
       "      <td>Yes</td>\n",
       "      <td>No</td>\n",
       "      <td>No</td>\n",
       "      <td>2</td>\n",
       "      <td>23.7</td>\n",
       "      <td>23</td>\n",
       "      <td>Electrical Engineering</td>\n",
       "      <td>20.70</td>\n",
       "    </tr>\n",
       "    <tr>\n",
       "      <th>3</th>\n",
       "      <td>Karen Williams</td>\n",
       "      <td>83487</td>\n",
       "      <td>10</td>\n",
       "      <td>5.000000</td>\n",
       "      <td>No</td>\n",
       "      <td>No</td>\n",
       "      <td>No</td>\n",
       "      <td>No</td>\n",
       "      <td>No</td>\n",
       "      <td>No</td>\n",
       "      <td>No</td>\n",
       "      <td>No</td>\n",
       "      <td>Yes</td>\n",
       "      <td>Yes</td>\n",
       "      <td>5</td>\n",
       "      <td>21.0</td>\n",
       "      <td>18</td>\n",
       "      <td>Computer Science</td>\n",
       "      <td>10.73</td>\n",
       "    </tr>\n",
       "    <tr>\n",
       "      <th>4</th>\n",
       "      <td>Brian Ortega</td>\n",
       "      <td>42073</td>\n",
       "      <td>257</td>\n",
       "      <td>8.455105</td>\n",
       "      <td>Yes</td>\n",
       "      <td>No</td>\n",
       "      <td>No</td>\n",
       "      <td>No</td>\n",
       "      <td>No</td>\n",
       "      <td>NaN</td>\n",
       "      <td>No</td>\n",
       "      <td>Yes</td>\n",
       "      <td>Yes</td>\n",
       "      <td>No</td>\n",
       "      <td>4</td>\n",
       "      <td>26.2</td>\n",
       "      <td>18</td>\n",
       "      <td>Computer Science</td>\n",
       "      <td>25.06</td>\n",
       "    </tr>\n",
       "  </tbody>\n",
       "</table>\n",
       "</div>"
      ],
      "text/plain": [
       "      Name of Student  Roll No.  No. of DSA questions      CGPA Knows ML  \\\n",
       "0      Hunter Roberts     43384                    83  3.940755      Yes   \n",
       "1  Christopher Burton     79402                   159  4.663760      Yes   \n",
       "2      Laura Calderon     97041                   346  4.454998       No   \n",
       "3      Karen Williams     83487                    10  5.000000       No   \n",
       "4        Brian Ortega     42073                   257  8.455105      Yes   \n",
       "\n",
       "  Knows DSA Knows Python Knows JavaScript Knows HTML Knows CSS Knows Cricket  \\\n",
       "0        No          Yes              Yes         No        No            No   \n",
       "1       Yes           No              Yes         No        No           Yes   \n",
       "2       Yes           No              Yes        Yes        No            No   \n",
       "3        No           No               No         No        No            No   \n",
       "4        No           No               No         No       NaN            No   \n",
       "\n",
       "  Knows Dance Participated in College Fest Was in Coding Club  \\\n",
       "0         Yes                          Yes                 No   \n",
       "1          No                          Yes                 No   \n",
       "2         Yes                           No                 No   \n",
       "3          No                          Yes                Yes   \n",
       "4         Yes                          Yes                 No   \n",
       "\n",
       "   No. of backlogs  Interview Room Temperature  Age of Candidate  \\\n",
       "0                3                        25.8                20   \n",
       "1                2                        22.3                20   \n",
       "2                2                        23.7                23   \n",
       "3                5                        21.0                18   \n",
       "4                4                        26.2                18   \n",
       "\n",
       "    Branch of Engineering  Placement Package  \n",
       "0       Civil Engineering              11.08  \n",
       "1  Mechanical Engineering              16.77  \n",
       "2  Electrical Engineering              20.70  \n",
       "3        Computer Science              10.73  \n",
       "4        Computer Science              25.06  "
      ]
     },
     "execution_count": 2,
     "metadata": {},
     "output_type": "execute_result"
    }
   ],
   "source": [
    "dataset = pd.read_csv(\"Optimized_Placement_Dataset_with_Noise.csv\")\n",
    "dataset.head()"
   ]
  },
  {
   "cell_type": "code",
   "execution_count": 3,
   "metadata": {
    "colab": {
     "base_uri": "https://localhost:8080/"
    },
    "executionInfo": {
     "elapsed": 485,
     "status": "ok",
     "timestamp": 1730393305470,
     "user": {
      "displayName": "mihit singasane",
      "userId": "10672172279252187753"
     },
     "user_tz": -330
    },
    "id": "D-Y43Ecq8_MZ",
    "outputId": "366fe43b-4849-45a1-b362-cf9b4e2afb60"
   },
   "outputs": [
    {
     "name": "stdout",
     "output_type": "stream",
     "text": [
      "The shape of the dataset available is :  (220000, 19)\n",
      "   No. of DSA questions      CGPA Knows ML Knows DSA Knows Python  \\\n",
      "0                    83  3.940755      Yes        No          Yes   \n",
      "1                   159  4.663760      Yes       Yes           No   \n",
      "\n",
      "  Knows JavaScript Knows HTML Knows CSS Knows Cricket Knows Dance  \\\n",
      "0              Yes         No        No            No         Yes   \n",
      "1              Yes         No        No           Yes          No   \n",
      "\n",
      "  Participated in College Fest Was in Coding Club  No. of backlogs  \\\n",
      "0                          Yes                 No                3   \n",
      "1                          Yes                 No                2   \n",
      "\n",
      "   Interview Room Temperature  Age of Candidate   Branch of Engineering  \\\n",
      "0                        25.8                20       Civil Engineering   \n",
      "1                        22.3                20  Mechanical Engineering   \n",
      "\n",
      "   Placement Package  \n",
      "0              11.08  \n",
      "1              16.77  \n"
     ]
    }
   ],
   "source": [
    "print(\"The shape of the dataset available is : \", dataset.shape)\n",
    "# Considering 10000 rows from this dataset to perform the Algorithm\n",
    "dataset = dataset.iloc[:30000,:]\n",
    "\n",
    "# removing irrelevant values form the dataset\n",
    "if 'Name of Student' in dataset.columns and 'Roll No.' in dataset.columns:\n",
    "  dataset = dataset.drop(columns=['Name of Student', 'Roll No.'])\n",
    "print(dataset.head(2))"
   ]
  },
  {
   "cell_type": "markdown",
   "metadata": {},
   "source": [
    "### Visualizing outliners"
   ]
  },
  {
   "cell_type": "code",
   "execution_count": 4,
   "metadata": {},
   "outputs": [
    {
     "data": {
      "image/png": "[encoded data removed]",
      "text/plain": [
       "<Figure size 1000x600 with 1 Axes>"
      ]
     },
     "metadata": {},
     "output_type": "display_data"
    }
   ],
   "source": [
    "# Calculate IQR for detecting outliers\n",
    "Q1 = dataset['Placement Package'].quantile(0.25)\n",
    "Q3 = dataset['Placement Package'].quantile(0.75)\n",
    "IQR = Q3 - Q1\n",
    "lower_bound = Q1 - 1.5 * IQR\n",
    "upper_bound = Q3 + 1.5 * IQR\n",
    "\n",
    "# Identify outliers\n",
    "outliers = dataset[(dataset['Placement Package'] < lower_bound) | (dataset['Placement Package'] > upper_bound)]\n",
    "\n",
    "# Create the box plot without outliers using showfliers=False\n",
    "plt.figure(figsize=(10, 6))\n",
    "sns.boxplot(data=dataset, x='Placement Package', color='skyblue', showfliers=False)\n",
    "plt.title('Enhanced Box Plot with Outliers Highlighted and Annotated for Placement Package')\n",
    "\n",
    "# Plot each outlier as a red dot with annotations\n",
    "for value in outliers['Placement Package']:\n",
    "    plt.plot(0, value, 'ro', markersize=8)  # Red dot for each outlier\n",
    "    plt.text(0.1, value, f'{value:.2f}', color='red', va='center', fontsize=9)  # Display value near the dot\n",
    "\n",
    "# Adding a manual legend for outliers\n",
    "plt.plot([], [], 'ro', label='Outlier')  # Empty plot to add legend entry for 'Outlier'\n",
    "plt.legend(loc='upper right')\n",
    "\n",
    "# Customize labels\n",
    "plt.xlabel('Placement Package')\n",
    "plt.show()"
   ]
  },
  {
   "cell_type": "markdown",
   "metadata": {},
   "source": [
    "### Removing Outliners"
   ]
  },
  {
   "cell_type": "code",
   "execution_count": 5,
   "metadata": {},
   "outputs": [
    {
     "name": "stdout",
     "output_type": "stream",
     "text": [
      "Outliers: [39.30008532998153, 40.01062478384932, 42.90096419404707, 47.04194999980385, 40.64801307055568, 49.69163409927432, 46.83835792400137, 41.15806359616764, 49.1652334199514, 39.23261757565805, 45.97810569883214, 48.65157511006226, 52.26487325668664, 41.10726700327832, 43.27538823836707, 46.09416486490289, 38.04664446941678, 42.81194529276945, 38.9, 39.7509789097924, 37.92, 39.55, 40.41828157101935, 41.91350289958315, 41.48956812327084, 41.3497102655146, 38.08, 46.05956573861625, 47.50375842238356, 38.02597739030456, 50.41439112690698, 39.01440112325096, 38.165553411875365, 40.04009521851378, 50.97627972950576, 38.26687318728432, 40.03164016941442, 41.13837882344209, 40.52851732915488, 38.94328727296248, 68.47777866138492, 43.08968085169533, 44.41201060535081, 39.548397616165225, 41.39868127215008, 38.554555021285815, 39.178311448234815, 41.18997928693343, 47.95504616947662, 39.04, 39.81971049560809, 38.21, 38.91583230263941, 40.45, 39.31657717310341, 46.31350575981615, 37.93, 48.994343576831454, 44.43587277743135, 38.99840607549466, 41.3497102655146, 45.29348101621212, 43.017571744133264, 40.63909127506426, 39.53450528673274, 38.11583688807413, 38.12675218844869, 38.31052728905807, 40.12432609911099, 52.1656554431516, 38.705190060926064, 38.26, 39.262534336032815, 45.01060424144945, 44.221671238938384, 41.92112142986471, 49.62544735668041, 40.57037231376079, 41.077701423297846, 42.420803500557184, 39.300699196858574, 39.57988814820265, 54.29094559303508, 38.61, 44.40018643582419, 52.24508593589335, 51.6153195304977, 38.93160144460141]\n"
     ]
    }
   ],
   "source": [
    "print(\"Outliers:\", outliers['Placement Package'].tolist())\n",
    "Q1 = dataset['Placement Package'].quantile(0.25)\n",
    "Q3 = dataset['Placement Package'].quantile(0.75)\n",
    "IQR = Q3 - Q1\n",
    "\n",
    "# Filtering out the outliers\n",
    "dataset = dataset[~((dataset['Placement Package'] < (Q1 - 1.5 * IQR)) | (dataset['Placement Package'] > (Q3 + 1.5 * IQR)))]\n"
   ]
  },
  {
   "cell_type": "markdown",
   "metadata": {
    "id": "ww8Bv58uA7kz"
   },
   "source": [
    "### Checking for missing values"
   ]
  },
  {
   "cell_type": "code",
   "execution_count": 6,
   "metadata": {
    "colab": {
     "base_uri": "https://localhost:8080/"
    },
    "executionInfo": {
     "elapsed": 5,
     "status": "ok",
     "timestamp": 1730393305470,
     "user": {
      "displayName": "mihit singasane",
      "userId": "10672172279252187753"
     },
     "user_tz": -330
    },
    "id": "oPCEBrQQBAOD",
    "outputId": "e5c6fbf6-7cfa-4ca2-d8d5-4d1b7217a76f"
   },
   "outputs": [
    {
     "name": "stdout",
     "output_type": "stream",
     "text": [
      "No. of DSA questions              0\n",
      "CGPA                              0\n",
      "Knows ML                        489\n",
      "Knows DSA                         0\n",
      "Knows Python                    536\n",
      "Knows JavaScript                500\n",
      "Knows HTML                      505\n",
      "Knows CSS                       491\n",
      "Knows Cricket                    11\n",
      "Knows Dance                      11\n",
      "Participated in College Fest      0\n",
      "Was in Coding Club                0\n",
      "No. of backlogs                   0\n",
      "Interview Room Temperature        0\n",
      "Age of Candidate                  0\n",
      "Branch of Engineering             0\n",
      "Placement Package                 0\n",
      "dtype: int64\n"
     ]
    }
   ],
   "source": [
    "print(dataset.isnull().sum())\n",
    "dataset = dataset.dropna()"
   ]
  },
  {
   "cell_type": "code",
   "execution_count": 7,
   "metadata": {},
   "outputs": [],
   "source": [
    "# depedent variable y\n",
    "y = dataset.iloc[:,-1].values\n",
    "# independent variable X\n",
    "X = dataset.iloc[:,:-1].values"
   ]
  },
  {
   "cell_type": "code",
   "execution_count": 8,
   "metadata": {
    "colab": {
     "base_uri": "https://localhost:8080/"
    },
    "executionInfo": {
     "elapsed": 3,
     "status": "ok",
     "timestamp": 1730393305470,
     "user": {
      "displayName": "mihit singasane",
      "userId": "10672172279252187753"
     },
     "user_tz": -330
    },
    "id": "giAjS5GYDLfK",
    "outputId": "fc6f6c35-784d-4ffc-d317-a432e4bdacab"
   },
   "outputs": [
    {
     "name": "stdout",
     "output_type": "stream",
     "text": [
      "[83.0 3.940754618189354 'Yes' 'No' 'Yes' 'Yes' 'No' 'No' 'No' 'Yes' 'Yes'\n",
      " 'No' 3.0 25.8 20.0 'Civil Engineering']\n",
      "No. of DSA questions            0\n",
      "CGPA                            0\n",
      "Knows ML                        0\n",
      "Knows DSA                       0\n",
      "Knows Python                    0\n",
      "Knows JavaScript                0\n",
      "Knows HTML                      0\n",
      "Knows CSS                       0\n",
      "Knows Cricket                   0\n",
      "Knows Dance                     0\n",
      "Participated in College Fest    0\n",
      "Was in Coding Club              0\n",
      "No. of backlogs                 0\n",
      "Interview Room Temperature      0\n",
      "Age of Candidate                0\n",
      "Branch of Engineering           0\n",
      "Placement Package               0\n",
      "dtype: int64\n"
     ]
    }
   ],
   "source": [
    "from sklearn.impute import SimpleImputer\n",
    "imputer_mode = SimpleImputer(missing_values=np.nan, strategy='most_frequent')\n",
    "imputer_mode.fit(X[:, 2:12])\n",
    "X[:, 2:12] = imputer_mode.transform(X[:, 2:12])\n",
    "\n",
    "imputer_mean = SimpleImputer(missing_values=np.nan, strategy='mean')\n",
    "imputer_mean.fit(X[:, [0, 12, 13, 14]])\n",
    "X[:, [0, 12, 13, 14]] = imputer_mean.transform(X[:, [0, 12, 13, 14]])\n",
    "\n",
    "print(X[0])\n",
    "print(dataset.isnull().sum())"
   ]
  },
  {
   "cell_type": "markdown",
   "metadata": {
    "id": "hYzRXyq-FZ3G"
   },
   "source": [
    "### Encoding independent variables"
   ]
  },
  {
   "cell_type": "markdown",
   "metadata": {
    "id": "ZsPyqQHpGsut"
   },
   "source": [
    "##### single value variables"
   ]
  },
  {
   "cell_type": "code",
   "execution_count": 9,
   "metadata": {
    "colab": {
     "base_uri": "https://localhost:8080/"
    },
    "executionInfo": {
     "elapsed": 4,
     "status": "ok",
     "timestamp": 1730393305470,
     "user": {
      "displayName": "mihit singasane",
      "userId": "10672172279252187753"
     },
     "user_tz": -330
    },
    "id": "NqjE6m6hFsf1",
    "outputId": "b29b03d6-1abf-445a-f94e-576781af3886"
   },
   "outputs": [
    {
     "name": "stdout",
     "output_type": "stream",
     "text": [
      "[[83.0 3.940754618189354 1 ... 25.8 20.0 'Civil Engineering']\n",
      " [159.0 4.663760041251319 1 ... 22.3 20.0 'Mechanical Engineering']\n",
      " [346.0 4.454998411873437 0 ... 23.7 23.0 'Electrical Engineering']\n",
      " ...\n",
      " [63.0 3.5670194057257105 0 ... 27.3 24.0 'Computer Science']\n",
      " [236.0 5.141718928308238 1 ... 29.9 22.0 'Electrical Engineering']\n",
      " [193.0 5.065153910850011 1 ... 21.0 18.0 'Computer Science']]\n"
     ]
    }
   ],
   "source": [
    "from sklearn.preprocessing import LabelEncoder\n",
    "le = LabelEncoder()\n",
    "for i in range(2, 12):\n",
    "  X[:, i] = le.fit_transform(X[:, i])\n",
    "print(X)"
   ]
  },
  {
   "cell_type": "markdown",
   "metadata": {
    "id": "bw0lHgWZInjm"
   },
   "source": [
    "##### multi-valued variables"
   ]
  },
  {
   "cell_type": "code",
   "execution_count": 10,
   "metadata": {
    "colab": {
     "base_uri": "https://localhost:8080/"
    },
    "executionInfo": {
     "elapsed": 3,
     "status": "ok",
     "timestamp": 1730393305470,
     "user": {
      "displayName": "mihit singasane",
      "userId": "10672172279252187753"
     },
     "user_tz": -330
    },
    "id": "sXDOZPITIuJa",
    "outputId": "6c68e5a8-ef56-4fe2-d64c-6ecedeb2b509"
   },
   "outputs": [
    {
     "name": "stdout",
     "output_type": "stream",
     "text": [
      "[1.0 0.0 0.0 0.0 83.0 3.940754618189354 1 0 1 1 0 0 0 1 1 0 3.0 25.8 20.0]\n"
     ]
    }
   ],
   "source": [
    "from sklearn.compose import ColumnTransformer\n",
    "from sklearn.preprocessing import OneHotEncoder\n",
    "ct = ColumnTransformer(transformers=[('encoder', OneHotEncoder(), [15])], remainder='passthrough')\n",
    "X = np.array(ct.fit_transform(X))\n",
    "print(X[0])"
   ]
  },
  {
   "cell_type": "markdown",
   "metadata": {
    "id": "UqLf0wzURIf7"
   },
   "source": [
    "### Splitting the dataset into the Training set and Test set"
   ]
  },
  {
   "cell_type": "code",
   "execution_count": 11,
   "metadata": {
    "executionInfo": {
     "elapsed": 3,
     "status": "ok",
     "timestamp": 1730393305471,
     "user": {
      "displayName": "mihit singasane",
      "userId": "10672172279252187753"
     },
     "user_tz": -330
    },
    "id": "bgJ687aKRKM7"
   },
   "outputs": [],
   "source": [
    "from sklearn.model_selection import train_test_split\n",
    "X_train, X_test, y_train, y_test = train_test_split(X, y, test_size = 0.2, random_state = 42)"
   ]
  },
  {
   "cell_type": "markdown",
   "metadata": {
    "id": "GfRxIvBVRiWS"
   },
   "source": [
    "### Feature Scaling"
   ]
  },
  {
   "cell_type": "code",
   "execution_count": 12,
   "metadata": {
    "colab": {
     "base_uri": "https://localhost:8080/"
    },
    "executionInfo": {
     "elapsed": 3,
     "status": "ok",
     "timestamp": 1730393305471,
     "user": {
      "displayName": "mihit singasane",
      "userId": "10672172279252187753"
     },
     "user_tz": -330
    },
    "id": "zBi329nkRlpG",
    "outputId": "7d715efc-df1d-4c1e-8f2d-5a9650f89b15"
   },
   "outputs": [
    {
     "name": "stdout",
     "output_type": "stream",
     "text": [
      "[1.0 0.0 0.0 0.0 1.770925065263867 0.31212407744385334 0 0 0 1 0 1 0 0 0 0\n",
      " -0.5459887142235176 1.3268607814545892 0.21277510637869462]\n"
     ]
    }
   ],
   "source": [
    "from sklearn.preprocessing import StandardScaler\n",
    "\n",
    "columns_to_scale = [4, 5, 16, 17, 18]\n",
    "\n",
    "# Separate the columns to scale and the remaining columns\n",
    "X_train_to_scale = X_train[:, columns_to_scale]\n",
    "X_train_rest = np.delete(X_train, columns_to_scale, axis=1)\n",
    "# Apply scaling only to the specified columns\n",
    "sc = StandardScaler()\n",
    "X_train_scaled = sc.fit_transform(X_train_to_scale)\n",
    "# Merge scaled and unscaled columns back in the original order\n",
    "X_train[:, columns_to_scale] = X_train_scaled\n",
    "\n",
    "# for test data\n",
    "X_test_to_scale = X_test[:, columns_to_scale]\n",
    "X_test_rest = np.delete(X_test, columns_to_scale, axis=1)\n",
    "X_test_scaled = sc.transform(X_test_to_scale)\n",
    "X_test[:, columns_to_scale] = X_test_scaled\n",
    "print(X_train[0])"
   ]
  },
  {
   "cell_type": "code",
   "execution_count": 13,
   "metadata": {},
   "outputs": [
    {
     "name": "stdout",
     "output_type": "stream",
     "text": [
      "(21980,)\n",
      "False\n",
      "[ 2.37340356  2.99581598  3.19450816 ... 37.74       37.80539064\n",
      " 37.82280415]\n",
      "(21980, 19) (21980,)\n"
     ]
    }
   ],
   "source": [
    "print(y_train.shape)\n",
    "print(np.isnan(y_train).any())\n",
    "print(np.unique(y_train))\n",
    "print(X_train.shape, y_train.shape)"
   ]
  },
  {
   "cell_type": "markdown",
   "metadata": {},
   "source": [
    "### testing accuracy "
   ]
  },
  {
   "cell_type": "code",
   "execution_count": 14,
   "metadata": {},
   "outputs": [
    {
     "name": "stdout",
     "output_type": "stream",
     "text": [
      "Random Forest:\n",
      "Cross-validation MSE: 3.105 (+/- 0.196)\n",
      "Mean Absolute Error: 0.762\n",
      "Mean Squared Error: 2.895\n",
      "R-squared: 0.937\n",
      "\n",
      "============================================================\n",
      "\n",
      "Gradient Boosting:\n",
      "Cross-validation MSE: 2.689 (+/- 0.216)\n",
      "Mean Absolute Error: 0.596\n",
      "Mean Squared Error: 2.574\n",
      "R-squared: 0.944\n",
      "\n",
      "============================================================\n",
      "\n",
      "Support Vector Regression:\n",
      "Cross-validation MSE: 2.545 (+/- 0.203)\n",
      "Mean Absolute Error: 0.395\n",
      "Mean Squared Error: 2.459\n",
      "R-squared: 0.946\n",
      "\n",
      "============================================================\n",
      "\n",
      "K-Nearest Neighbors:\n",
      "Cross-validation MSE: 5.656 (+/- 0.257)\n",
      "Mean Absolute Error: 1.559\n",
      "Mean Squared Error: 5.535\n",
      "R-squared: 0.879\n",
      "\n",
      "============================================================\n",
      "\n",
      "Decision Tree:\n",
      "Cross-validation MSE: 6.379 (+/- 0.304)\n",
      "Mean Absolute Error: 1.115\n",
      "Mean Squared Error: 5.804\n",
      "R-squared: 0.873\n",
      "\n",
      "============================================================\n",
      "\n",
      "Linear Regression:\n",
      "Cross-validation MSE: 2.528 (+/- 0.203)\n",
      "Mean Absolute Error: 0.387\n",
      "Mean Squared Error: 2.441\n",
      "R-squared: 0.947\n",
      "\n",
      "============================================================\n",
      "\n"
     ]
    }
   ],
   "source": [
    "from sklearn.ensemble import RandomForestRegressor, GradientBoostingRegressor\n",
    "from sklearn.svm import SVR\n",
    "from sklearn.neighbors import KNeighborsRegressor\n",
    "from sklearn.tree import DecisionTreeRegressor\n",
    "from sklearn.linear_model import LinearRegression\n",
    "from sklearn.metrics import mean_absolute_error, mean_squared_error, r2_score\n",
    "\n",
    "# Define regression models\n",
    "models = {\n",
    "    'Random Forest': RandomForestRegressor(),\n",
    "    'Gradient Boosting': GradientBoostingRegressor(),\n",
    "    'Support Vector Regression': SVR(),\n",
    "    'K-Nearest Neighbors': KNeighborsRegressor(),\n",
    "    'Decision Tree': DecisionTreeRegressor(),\n",
    "    'Linear Regression': LinearRegression()\n",
    "}\n",
    "\n",
    "# Evaluate each model\n",
    "for name, model in models.items():\n",
    "    print(f\"{name}:\")\n",
    "    \n",
    "    # Cross-validation scores\n",
    "    cv_scores = cross_val_score(model, X_train, y_train, cv=5, scoring='neg_mean_squared_error')\n",
    "    print(f\"Cross-validation MSE: {-cv_scores.mean():.3f} (+/- {cv_scores.std():.3f})\")\n",
    "    \n",
    "    # Train and predict\n",
    "    model.fit(X_train, y_train)\n",
    "    y_pred = model.predict(X_test)\n",
    "\n",
    "    # Calculate regression metrics\n",
    "    mae = mean_absolute_error(y_test, y_pred)\n",
    "    mse = mean_squared_error(y_test, y_pred)\n",
    "    r2 = r2_score(y_test, y_pred)\n",
    "\n",
    "    print(f\"Mean Absolute Error: {mae:.3f}\")\n",
    "    print(f\"Mean Squared Error: {mse:.3f}\")\n",
    "    print(f\"R-squared: {r2:.3f}\")\n",
    "    print(\"\\n\" + \"=\"*60 + \"\\n\")"
   ]
  }
 ],
 "metadata": {
  "colab": {
   "provenance": []
  },
  "kernelspec": {
   "display_name": ".venv",
   "language": "python",
   "name": "python3"
  },
  "language_info": {
   "codemirror_mode": {
    "name": "ipython",
    "version": 3
   },
   "file_extension": ".py",
   "mimetype": "text/x-python",
   "name": "python",
   "nbconvert_exporter": "python",
   "pygments_lexer": "ipython3",
   "version": "3.11.9"
  }
 },
 "nbformat": 4,
 "nbformat_minor": 0
}
